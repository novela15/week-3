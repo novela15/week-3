{
  "nbformat": 4,
  "nbformat_minor": 0,
  "metadata": {
    "colab": {
      "provenance": []
    },
    "kernelspec": {
      "name": "python3",
      "display_name": "Python 3"
    },
    "language_info": {
      "name": "python"
    }
  },
  "cells": [
    {
      "cell_type": "markdown",
      "source": [
        "# **Weekly Exercise 1**\n",
        "\n"
      ],
      "metadata": {
        "id": "eBLAVsI5r51K"
      }
    },
    {
      "cell_type": "code",
      "source": [
        "with open('sample_data/biodata_novela.txt', 'r') as testwritefile:\n",
        "    print(testwritefile.read())"
      ],
      "metadata": {
        "colab": {
          "base_uri": "https://localhost:8080/"
        },
        "id": "Gc5WUHFQ3xtH",
        "outputId": "2d9089eb-94ce-48b8-9304-1814edfccdbe"
      },
      "execution_count": null,
      "outputs": [
        {
          "output_type": "stream",
          "name": "stdout",
          "text": [
            "Nama : Novela Eka Saputri\n",
            "Progam Studi : Teknologi Informasi\n",
            "NPM : 2420506040\n",
            "Alamat : Borobudur\n",
            "Hobi : Mendengarkan musik\n",
            "Email : novelassaputri07@gmail.com\n"
          ]
        }
      ]
    },
    {
      "cell_type": "code",
      "source": [
        "with open('sample_data/biodata_novela.txt', 'r') as testwritefile:\n",
        "  for line in testwritefile:\n",
        "    if \"Nama\" in line or \"Progam Studi\" in line or \"Email\" in line:\n",
        "      print(line.strip())"
      ],
      "metadata": {
        "colab": {
          "base_uri": "https://localhost:8080/"
        },
        "id": "2g3hb9yoixYt",
        "outputId": "c4890b50-0e97-498f-ae44-5e9f90e1d76d"
      },
      "execution_count": null,
      "outputs": [
        {
          "output_type": "stream",
          "name": "stdout",
          "text": [
            "Nama : Novela Eka Saputri\n",
            "Progam Studi : Teknologi Informasi\n",
            "Email : novelassaputri07@gmail.com\n"
          ]
        }
      ]
    },
    {
      "cell_type": "code",
      "source": [
        "with open('sample_data/biodata_novela.txt', 'r') as readfile:\n",
        "  with open('sample_data/biodata_novela_baru.txt', 'w') as writefile:\n",
        "    for line in readfile:\n",
        "      writefile.write(line)\n",
        "with open ('sample_data/biodata_novela_baru.txt', 'r') as testwritefile:\n",
        "  for line in testwritefile:\n",
        "    if \"Nama\" in line or \"Progam Studi\" in line or \"Alamat\" in line:\n",
        "     print(line.strip())"
      ],
      "metadata": {
        "colab": {
          "base_uri": "https://localhost:8080/"
        },
        "id": "tnDbxLLcmoXm",
        "outputId": "b2f727ed-b65a-4cc6-b934-a34c74b61929"
      },
      "execution_count": null,
      "outputs": [
        {
          "output_type": "stream",
          "name": "stdout",
          "text": [
            "Nama : Novela Eka Saputri\n",
            "Progam Studi : Teknologi Informasi\n",
            "Alamat : Borobudur\n"
          ]
        }
      ]
    },
    {
      "cell_type": "markdown",
      "source": [
        "# **Weekly Exersice 2**"
      ],
      "metadata": {
        "id": "MtI6cm8k2c_7"
      }
    },
    {
      "cell_type": "code",
      "source": [
        "print(\"Selamat datang di Toko Maju Jaya\")\n",
        "print(\"Senin, 4 September 2023, 13.05\")\n",
        "print(\" \")\n",
        "\n",
        "print(\"DAFTAR BELANJA:\")\n",
        "item1 = 'Sabun'\n",
        "item2 = 'Shampo'\n",
        "item3 = 'Mie instant'\n",
        "item4 = 'Detergen'\n",
        "harga1 = 10000\n",
        "harga2 = 15000\n",
        "harga3 = 5000\n",
        "harga4 = 17500\n",
        "\n",
        "total = (harga1 + harga2 + harga3 + harga4)\n",
        "\n",
        "print(item1, \"= Rp\", + harga1)\n",
        "print(item2, \"= Rp\", + harga2)\n",
        "print(item3, \"= Rp\", +  harga3)\n",
        "print(item4, \"= Rp\", + harga4)\n",
        "\n",
        "print(\" \")\n",
        "print(\"Total Belanja =\", total)\n",
        "\n",
        "with open('kuitansi.txt', 'w') as writefile:\n",
        "  writefile.write(\"Selamat Datang di Toko Maju Jaya\\n\")\n",
        "  writefile.write(\"\\n\")\n",
        "  writefile.write(\" - 4 Septermber 2023\\n\")\n",
        "  writefile.write(\" \\n\")\n",
        "  writefile.write(item1+\" = Rp \"+str(harga1)+\"\\n\")\n",
        "  writefile.write(item2+\" = Rp \"+str(harga2)+\"\\n\")\n",
        "  writefile.write(item3+\" = Rp \"+str(harga3)+\"\\n\")\n",
        "  writefile.write(item4+\" = Rp \"+str(harga4)+\"\\n\")\n",
        "  writefile.write(\" \\n\")\n",
        "  writefile.write(\"Total Belanja =\"+str(total))"
      ],
      "metadata": {
        "colab": {
          "base_uri": "https://localhost:8080/"
        },
        "id": "es5gQo-yr_4K",
        "outputId": "cf2b9855-8213-4743-9bd2-8ab9a8e4483a"
      },
      "execution_count": null,
      "outputs": [
        {
          "output_type": "stream",
          "name": "stdout",
          "text": [
            "Selamat datang di Toko Maju Jaya\n",
            "Senin, 4 September 2023, 13.05\n",
            " \n",
            "DAFTAR BELANJA:\n",
            "Sabun = Rp 10000\n",
            "Shampo = Rp 15000\n",
            "Mie instant = Rp 5000\n",
            "Detergen = Rp 17500\n",
            " \n",
            "Total Belanja = 47500\n"
          ]
        }
      ]
    }
  ]
}